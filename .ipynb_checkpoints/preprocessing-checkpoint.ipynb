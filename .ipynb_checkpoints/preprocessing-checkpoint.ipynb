{
 "metadata": {
  "name": "",
  "signature": "sha256:a54fe6b3417c53d383bd2df62ff74a7f05755b95a2dfebd5867e264ceb733268"
 },
 "nbformat": 3,
 "nbformat_minor": 0,
 "worksheets": [
  {
   "cells": [
    {
     "cell_type": "code",
     "collapsed": false,
     "input": [
      "from itertools import chain\n",
      "import nltk\n",
      "from sklearn.metrics import classification_report, confusion_matrix\n",
      "from sklearn.preprocessing import LabelBinarizer\n",
      "import sklearn\n",
      "import pycrfsuite"
     ],
     "language": "python",
     "metadata": {},
     "outputs": [],
     "prompt_number": 3
    },
    {
     "cell_type": "code",
     "collapsed": false,
     "input": [
      "# Transportation Mode (TM) Data\n",
      "FOLDER_DATA_TM = 'data/gpx/'\n",
      "FOLDER_DATA_BUS = 'data/gpx/bus/'\n",
      "FOLDER_DATA_WALK = 'data/gpx/wk/'\n",
      "FOLDER_DATA_CAR = 'data/gpx/car/'"
     ],
     "language": "python",
     "metadata": {},
     "outputs": [],
     "prompt_number": 4
    },
    {
     "cell_type": "code",
     "collapsed": false,
     "input": [
      "from os import listdir\n",
      "from os.path import isfile, join"
     ],
     "language": "python",
     "metadata": {},
     "outputs": [],
     "prompt_number": 5
    },
    {
     "cell_type": "code",
     "collapsed": false,
     "input": [
      "\"\"\"\n",
      "READ IN ALL DATA FILE PATHS\n",
      "\"\"\"\n",
      "files = dict()\n",
      "files[\"bus\"] = [f for f in listdir(FOLDER_DATA_BUS) if isfile(join(FOLDER_DATA_BUS, f))]\n",
      "files[\"walk\"] = [f for f in listdir(FOLDER_DATA_WALK) if isfile(join(FOLDER_DATA_WALK, f))]\n",
      "files[\"car\"] = [f for f in listdir(FOLDER_DATA_CAR) if isfile(join(FOLDER_DATA_CAR, f))]"
     ],
     "language": "python",
     "metadata": {},
     "outputs": [],
     "prompt_number": 6
    },
    {
     "cell_type": "code",
     "collapsed": false,
     "input": [
      "import xml.etree.ElementTree as ET"
     ],
     "language": "python",
     "metadata": {},
     "outputs": [],
     "prompt_number": 7
    },
    {
     "cell_type": "code",
     "collapsed": false,
     "input": [
      "tree = ET.parse(FOLDER_DATA_BUS+files[\"bus\"][0])"
     ],
     "language": "python",
     "metadata": {},
     "outputs": [],
     "prompt_number": 8
    },
    {
     "cell_type": "code",
     "collapsed": false,
     "input": [
      "from bs4 import BeautifulSoup\n",
      "import pandas as pd"
     ],
     "language": "python",
     "metadata": {},
     "outputs": [],
     "prompt_number": 39
    },
    {
     "cell_type": "code",
     "collapsed": false,
     "input": [
      "df = pd.DataFrame(columns=(\"trace_id\", \"ts\", \"lat\", \"lon\" ))\n",
      "\n",
      "f = open(FOLDER_DATA_BUS+files[\"bus\"][0], 'r')\n",
      "soup = BeautifulSoup(f)"
     ],
     "language": "python",
     "metadata": {},
     "outputs": [],
     "prompt_number": 49
    },
    {
     "cell_type": "code",
     "collapsed": false,
     "input": [
      "trkpts = soup.find_all('trkpt')"
     ],
     "language": "python",
     "metadata": {},
     "outputs": [],
     "prompt_number": 50
    },
    {
     "cell_type": "code",
     "collapsed": false,
     "input": [
      "n, d = df.shape\n",
      "for trkpt in trkpts:\n",
      "    trace_id = files[\"bus\"][0].lower().replace(\" \", \"_\")\n",
      "    df.loc[n-1] = [trace_id, trkpt.time.string, trkpt[\"lat\"], trkpt[\"lon\"]]\n",
      "    n = n+1"
     ],
     "language": "python",
     "metadata": {},
     "outputs": [],
     "prompt_number": 51
    },
    {
     "cell_type": "code",
     "collapsed": false,
     "input": [
      "grouped = df.groupby(\"trace_id\")"
     ],
     "language": "python",
     "metadata": {},
     "outputs": [],
     "prompt_number": 54
    },
    {
     "cell_type": "code",
     "collapsed": false,
     "input": [
      "for group in grouped:\n",
      "    print group"
     ],
     "language": "python",
     "metadata": {},
     "outputs": [
      {
       "output_type": "stream",
       "stream": "stdout",
       "text": [
        "('2011-07-21_0943_bus.gpx',                      trace_id                    ts       lat        lon\n",
        "-1    2011-07-21_0943_bus.gpx  2011-07-21T13:45:31Z  42.28769  -83.73356\n",
        " 0    2011-07-21_0943_bus.gpx  2011-07-21T13:45:32Z  42.28768  -83.73353\n",
        " 1    2011-07-21_0943_bus.gpx  2011-07-21T13:45:33Z  42.28767  -83.73349\n",
        " 2    2011-07-21_0943_bus.gpx  2011-07-21T13:45:34Z  42.28765  -83.73342\n",
        " 3    2011-07-21_0943_bus.gpx  2011-07-21T13:45:35Z  42.28761  -83.73337\n",
        " 4    2011-07-21_0943_bus.gpx  2011-07-21T13:45:36Z  42.28758  -83.73331\n",
        " 5    2011-07-21_0943_bus.gpx  2011-07-21T13:45:37Z  42.28752  -83.73325\n",
        " 6    2011-07-21_0943_bus.gpx  2011-07-21T13:45:38Z  42.28749  -83.73318\n",
        " 7    2011-07-21_0943_bus.gpx  2011-07-21T13:45:39Z  42.28744  -83.73312\n",
        " 8    2011-07-21_0943_bus.gpx  2011-07-21T13:45:40Z  42.28738  -83.73306\n",
        " 9    2011-07-21_0943_bus.gpx  2011-07-21T13:45:41Z  42.28733    -83.733\n",
        " 10   2011-07-21_0943_bus.gpx  2011-07-21T13:45:42Z  42.28726  -83.73295\n",
        " 11   2011-07-21_0943_bus.gpx  2011-07-21T13:45:43Z   42.2872   -83.7329\n",
        " 12   2011-07-21_0943_bus.gpx  2011-07-21T13:45:44Z  42.28713  -83.73285\n",
        " 13   2011-07-21_0943_bus.gpx  2011-07-21T13:45:45Z  42.28706   -83.7328\n",
        " 14   2011-07-21_0943_bus.gpx  2011-07-21T13:45:46Z    42.287  -83.73277\n",
        " 15   2011-07-21_0943_bus.gpx  2011-07-21T13:45:47Z  42.28694  -83.73274\n",
        " 16   2011-07-21_0943_bus.gpx  2011-07-21T13:45:48Z  42.28688  -83.73271\n",
        " 17   2011-07-21_0943_bus.gpx  2011-07-21T13:45:49Z  42.28684   -83.7327\n",
        " 18   2011-07-21_0943_bus.gpx  2011-07-21T13:45:50Z  42.28682  -83.73269\n",
        " 19   2011-07-21_0943_bus.gpx  2011-07-21T13:45:51Z  42.28681  -83.73268\n",
        " 20   2011-07-21_0943_bus.gpx  2011-07-21T13:45:52Z  42.28679  -83.73268\n",
        " 21   2011-07-21_0943_bus.gpx  2011-07-21T13:45:54Z   42.2868  -83.73269\n",
        " 22   2011-07-21_0943_bus.gpx  2011-07-21T13:45:55Z  42.28683  -83.73269\n",
        " 23   2011-07-21_0943_bus.gpx  2011-07-21T13:45:56Z  42.28685  -83.73269\n",
        " 24   2011-07-21_0943_bus.gpx  2011-07-21T13:45:58Z  42.28686  -83.73269\n",
        " 25   2011-07-21_0943_bus.gpx  2011-07-21T13:46:03Z  42.28686   -83.7327\n",
        " 26   2011-07-21_0943_bus.gpx  2011-07-21T13:46:05Z  42.28685   -83.7327\n",
        " 27   2011-07-21_0943_bus.gpx  2011-07-21T13:46:08Z  42.28684   -83.7327\n",
        " 28   2011-07-21_0943_bus.gpx  2011-07-21T13:46:12Z  42.28673  -83.73267\n",
        "...                       ...                   ...       ...        ...\n",
        " 374  2011-07-21_0943_bus.gpx  2011-07-21T13:54:21Z  42.27787  -83.73483\n",
        " 375  2011-07-21_0943_bus.gpx  2011-07-21T13:54:22Z  42.27785  -83.73486\n",
        " 376  2011-07-21_0943_bus.gpx  2011-07-21T13:54:23Z  42.27784  -83.73488\n",
        " 377  2011-07-21_0943_bus.gpx  2011-07-21T13:54:25Z  42.27786  -83.73489\n",
        " 378  2011-07-21_0943_bus.gpx  2011-07-21T13:54:26Z  42.27786  -83.73491\n",
        " 379  2011-07-21_0943_bus.gpx  2011-07-21T13:54:27Z  42.27785  -83.73492\n",
        " 380  2011-07-21_0943_bus.gpx  2011-07-21T13:54:28Z  42.27787  -83.73492\n",
        " 381  2011-07-21_0943_bus.gpx  2011-07-21T13:54:29Z   42.2779  -83.73493\n",
        " 382  2011-07-21_0943_bus.gpx  2011-07-21T13:54:30Z  42.27794  -83.73495\n",
        " 383  2011-07-21_0943_bus.gpx  2011-07-21T13:54:31Z  42.27796    -83.735\n",
        " 384  2011-07-21_0943_bus.gpx  2011-07-21T13:54:32Z  42.27799  -83.73504\n",
        " 385  2011-07-21_0943_bus.gpx  2011-07-21T13:54:33Z    42.278  -83.73509\n",
        " 386  2011-07-21_0943_bus.gpx  2011-07-21T13:54:34Z  42.27803  -83.73513\n",
        " 387  2011-07-21_0943_bus.gpx  2011-07-21T13:54:35Z  42.27807  -83.73516\n",
        " 388  2011-07-21_0943_bus.gpx  2011-07-21T13:54:36Z  42.27812  -83.73519\n",
        " 389  2011-07-21_0943_bus.gpx  2011-07-21T13:54:37Z  42.27816  -83.73523\n",
        " 390  2011-07-21_0943_bus.gpx  2011-07-21T13:54:38Z  42.27816  -83.73531\n",
        " 391  2011-07-21_0943_bus.gpx  2011-07-21T13:54:39Z  42.27818  -83.73535\n",
        " 392  2011-07-21_0943_bus.gpx  2011-07-21T13:54:40Z  42.27821  -83.73539\n",
        " 393  2011-07-21_0943_bus.gpx  2011-07-21T13:54:41Z  42.27824  -83.73542\n",
        " 394  2011-07-21_0943_bus.gpx  2011-07-21T13:54:42Z  42.27826  -83.73542\n",
        " 395  2011-07-21_0943_bus.gpx  2011-07-21T13:54:43Z  42.27828  -83.73544\n",
        " 396  2011-07-21_0943_bus.gpx  2011-07-21T13:54:44Z  42.27831  -83.73547\n",
        " 397  2011-07-21_0943_bus.gpx  2011-07-21T13:54:45Z  42.27832  -83.73548\n",
        " 398  2011-07-21_0943_bus.gpx  2011-07-21T13:54:46Z  42.27836  -83.73552\n",
        " 399  2011-07-21_0943_bus.gpx  2011-07-21T13:54:47Z  42.27838  -83.73557\n",
        " 400  2011-07-21_0943_bus.gpx  2011-07-21T13:54:48Z  42.27842  -83.73559\n",
        " 401  2011-07-21_0943_bus.gpx  2011-07-21T13:54:49Z  42.27846  -83.73568\n",
        " 402  2011-07-21_0943_bus.gpx  2011-07-21T13:54:50Z   42.2785  -83.73581\n",
        " 403  2011-07-21_0943_bus.gpx  2011-07-21T13:54:51Z  42.27854   -83.7359\n",
        "\n",
        "[405 rows x 4 columns])\n"
       ]
      }
     ],
     "prompt_number": 63
    },
    {
     "cell_type": "code",
     "collapsed": false,
     "input": [
      "group = group[1]"
     ],
     "language": "python",
     "metadata": {},
     "outputs": [],
     "prompt_number": 69
    },
    {
     "cell_type": "code",
     "collapsed": false,
     "input": [
      "starttime_str = group.iloc[0].ts\n"
     ],
     "language": "python",
     "metadata": {},
     "outputs": [],
     "prompt_number": 72
    },
    {
     "cell_type": "code",
     "collapsed": false,
     "input": [
      "from dateutil import parser"
     ],
     "language": "python",
     "metadata": {},
     "outputs": [],
     "prompt_number": 75
    },
    {
     "cell_type": "code",
     "collapsed": false,
     "input": [
      "starttime = parser.parse(starttime_str)"
     ],
     "language": "python",
     "metadata": {},
     "outputs": [],
     "prompt_number": 76
    },
    {
     "cell_type": "code",
     "collapsed": false,
     "input": [],
     "language": "python",
     "metadata": {},
     "outputs": []
    }
   ],
   "metadata": {}
  }
 ]
}